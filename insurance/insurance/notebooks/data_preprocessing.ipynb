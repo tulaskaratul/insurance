{
 "cells": [
  {
   "cell_type": "code",
   "execution_count": null,
   "metadata": {},
   "outputs": [],
   "source": []
  }
 ],
 "metadata": {
  "kernelspec": {
   "display_name": "Python 3.10.6 64-bit (windows store)",
   "language": "python",
   "name": "python3"
  },
  "language_info": {
   "name": "python",
   "version": "3.10.6"
  },
  "orig_nbformat": 4,
  "vscode": {
   "interpreter": {
    "hash": "c334af6b5e372f58295cc533b75b87ed916e9de50706c4869f269a22475fcf0e"
   }
  }
 },
 "nbformat": 4,
 "nbformat_minor": 2
}
